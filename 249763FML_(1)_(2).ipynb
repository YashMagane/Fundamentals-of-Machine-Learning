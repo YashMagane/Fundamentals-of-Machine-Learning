{
  "cells": [
    {
      "cell_type": "markdown",
      "metadata": {
        "id": "view-in-github",
        "colab_type": "text"
      },
      "source": [
        "<a href=\"https://colab.research.google.com/github/YashMagane/Fundamentals-of-Machine-Learning/blob/main/249763FML_(1)_(2).ipynb\" target=\"_parent\"><img src=\"https://colab.research.google.com/assets/colab-badge.svg\" alt=\"Open In Colab\"/></a>"
      ]
    },
    {
      "cell_type": "code",
      "execution_count": null,
      "metadata": {
        "colab": {
          "base_uri": "https://localhost:8080/"
        },
        "id": "qNXRwmeK7eTu",
        "outputId": "c05964dc-09be-492c-8c1b-81c9eed30010"
      },
      "outputs": [
        {
          "output_type": "stream",
          "name": "stdout",
          "text": [
            "Mounted at /content/drive\n"
          ]
        }
      ],
      "source": [
        "from google.colab import drive\n",
        "drive.mount(\"/content/drive\")"
      ]
    },
    {
      "cell_type": "code",
      "execution_count": null,
      "metadata": {
        "id": "Npes3Hfx7mf2"
      },
      "outputs": [],
      "source": [
        "import pandas as pd\n",
        "import numpy as np\n",
        "from sklearn.svm import SVC\n",
        "from sklearn.impute import SimpleImputer\n",
        "from sklearn.preprocessing import StandardScaler\n",
        "from sklearn.ensemble import RandomForestClassifier\n",
        "from sklearn.model_selection import train_test_split, GridSearchCV\n",
        "from sklearn.metrics import accuracy_score, confusion_matrix\n",
        "from sklearn.cluster import KMeans\n",
        "from sklearn.decomposition import PCA\n",
        "from sklearn.neural_network import MLPClassifier"
      ]
    },
    {
      "cell_type": "code",
      "execution_count": null,
      "metadata": {
        "id": "RMVIdJ7Q8Ylz"
      },
      "outputs": [],
      "source": [
        "#Loading training data 1\n",
        "data1_path = \"/content/drive/MyDrive/Year 2 CS/Semester2/Fundamentals of Machine Learning/assignment data/training1.csv\"\n",
        "data_train1 = pd.read_csv(data1_path)\n",
        "\n",
        "#Loading training data 2\n",
        "data2_path = \"/content/drive/MyDrive/Year 2 CS/Semester2/Fundamentals of Machine Learning/assignment data/training2.csv\"\n",
        "data_train2 = pd.read_csv(data2_path)\n",
        "\n",
        "#Loading test data\n",
        "test_path = \"/content/drive/MyDrive/Year 2 CS/Semester2/Fundamentals of Machine Learning/assignment data/test.csv\"\n",
        "test_data = pd.read_csv(test_path)"
      ]
    },
    {
      "cell_type": "code",
      "execution_count": null,
      "metadata": {
        "id": "RkjQZv-bOVBY"
      },
      "outputs": [],
      "source": [
        "#Combine both training sets\n",
        "data_conc = pd.concat([data_train1, data_train2], ignore_index = True).drop_duplicates()"
      ]
    },
    {
      "cell_type": "code",
      "execution_count": null,
      "metadata": {
        "id": "YIR2wOJr9KCB"
      },
      "outputs": [],
      "source": [
        "#Class Labels and features being removed from the merged training set\n",
        "X_train1 = data_conc.iloc[:, :-2].values\n",
        "y_train1 = data_conc.iloc[:, -2].values\n",
        "z_train1 = data_conc.iloc[:, -1].values\n",
        "\n",
        "X_test = test_data.values"
      ]
    },
    {
      "cell_type": "code",
      "execution_count": null,
      "metadata": {
        "id": "KKYqt5Yw-Dve"
      },
      "outputs": [],
      "source": [
        "#Spliting training data into validation and training sets\n",
        "X_train, X_val, y_train, y_val, z_train, z_val = train_test_split(X_train1, y_train1, z_train1, test_size=0.2, random_state=42)"
      ]
    },
    {
      "cell_type": "code",
      "execution_count": null,
      "metadata": {
        "id": "Rbi57te0-M5D"
      },
      "outputs": [],
      "source": [
        "#PREPROCESSING\n",
        "\n",
        "#Missing data handler\n",
        "#No fit on the validation and test data only transform\n",
        "imputer = SimpleImputer(missing_values = np.nan, strategy = 'mean')\n",
        "X_train = imputer.fit_transform(X_train)\n",
        "X_val = imputer.transform(X_val)\n",
        "X_test = imputer.transform(X_test)\n",
        "\n",
        "#Scaling data handler\n",
        "#No fit on the validation and test data only transform\n",
        "scaler = StandardScaler()\n",
        "X_train = scaler.fit_transform(X_train)\n",
        "X_val = scaler.transform(X_val)\n",
        "X_test = scaler.transform(X_test)\n",
        "\n",
        "#Feature Selection using PCA\n",
        "pca = PCA(n_components = 100)\n",
        "X_train = pca.fit_transform(X_train)\n",
        "X_val = pca.transform(X_val)\n",
        "X_test = pca.transform(X_test)"
      ]
    },
    {
      "cell_type": "code",
      "execution_count": null,
      "metadata": {
        "id": "H1y_J3FRALYU",
        "colab": {
          "base_uri": "https://localhost:8080/"
        },
        "outputId": "6845e9fc-ac33-4bcb-83e0-fbf8c43df958"
      },
      "outputs": [
        {
          "output_type": "stream",
          "name": "stdout",
          "text": [
            "0.7466666666666667\n"
          ]
        }
      ],
      "source": [
        "#Create a Random Forest Classifer\n",
        "rf = RandomForestClassifier(n_estimators = 100, random_state = 42)\n",
        "\n",
        "#Reshape X_train and X_val into 2D arrays\n",
        "if len(X_train.shape) == 1:\n",
        "    X_train = X_train.reshape(-1, 1)\n",
        "if len(X_val.shape) == 1:\n",
        "    X_val = X_val.reshape(-1, 1)\n",
        "\n",
        "#Fit Model on the training data\n",
        "rf.fit(X_train, y_train)\n",
        "\n",
        "#Prediction on test set\n",
        "rf_predict_test = rf.predict(X_test)\n",
        "\n",
        "#Prediction on validation set\n",
        "y_predict_val = rf.predict(X_val)\n",
        "\n",
        "#Print Accuracy score\n",
        "print(accuracy_score(y_val, y_predict_val))"
      ]
    },
    {
      "cell_type": "code",
      "execution_count": null,
      "metadata": {
        "colab": {
          "base_uri": "https://localhost:8080/"
        },
        "id": "3dd_VRhSzhl5",
        "outputId": "dc874c3b-249b-4ac1-e2a2-de02d23bf7f5"
      },
      "outputs": [
        {
          "output_type": "stream",
          "name": "stdout",
          "text": [
            "0.7633333333333333\n"
          ]
        }
      ],
      "source": [
        "#Create a Support Vector Machine (SVM)\n",
        "svm = SVC(kernel = \"linear\")\n",
        "          #probability = True)\n",
        "#param_grid = {'C': [0.1, 1, 10], 'gamma': [0.1, 1, 10]}\n",
        "#svm1 = GridSearchCV(svm, param_grid, cv = 5)\n",
        "\n",
        "#Fit Model on the training data\n",
        "svm.fit(X_train, y_train)\n",
        "\n",
        "#Prediction on test set\n",
        "svm_predict_test = svm.predict(X_test)\n",
        "\n",
        "#Prediction on validation set\n",
        "y_predict_val = svm.predict(X_val)\n",
        "\n",
        "#Print Accuracy score\n",
        "print(accuracy_score(y_val, y_predict_val))"
      ]
    },
    {
      "cell_type": "code",
      "source": [
        "#Create a Multi-Layer Perceptron (MLP)\n",
        "mlp = MLPClassifier(solver='sgd', alpha=1e-5, hidden_layer_sizes=(5, 2), random_state=1)\n",
        "\n",
        "#Fit Model on the training data\n",
        "mlp.fit(X_train, y_train)\n",
        "\n",
        "#Prediction on test set\n",
        "mlp_predict_test = mlp.predict(X_test)\n",
        "\n",
        "#Prediction on validation set\n",
        "y_predict_val = mlp.predict(X_val)\n",
        "\n",
        "#Print Accuracy score\n",
        "print(accuracy_score(y_val, y_predict_val))"
      ],
      "metadata": {
        "colab": {
          "base_uri": "https://localhost:8080/"
        },
        "id": "GTujACvH_U5z",
        "outputId": "7af1ec26-02d8-431b-ed8b-3d5e06f39572"
      },
      "execution_count": null,
      "outputs": [
        {
          "output_type": "stream",
          "name": "stdout",
          "text": [
            "0.755\n"
          ]
        },
        {
          "output_type": "stream",
          "name": "stderr",
          "text": [
            "/usr/local/lib/python3.10/dist-packages/sklearn/neural_network/_multilayer_perceptron.py:686: ConvergenceWarning: Stochastic Optimizer: Maximum iterations (200) reached and the optimization hasn't converged yet.\n",
            "  warnings.warn(\n"
          ]
        }
      ]
    },
    {
      "cell_type": "code",
      "source": [
        "#Write predictions to CSV file\n",
        "prediction = pd.DataFrame({'RF': rf_predict_test, 'SVM': svm_predict_test, 'MLP': mlp_predict_test})\n",
        "prediction.to_csv('/content/drive/MyDrive/Year 2 CS/Semester2/Fundamentals of Machine Learning/assignment data/predictions.csv', index=False)"
      ],
      "metadata": {
        "id": "bjCul2oTEb0D"
      },
      "execution_count": null,
      "outputs": []
    }
  ],
  "metadata": {
    "colab": {
      "provenance": [],
      "include_colab_link": true
    },
    "kernelspec": {
      "display_name": "Python 3",
      "name": "python3"
    },
    "language_info": {
      "name": "python"
    }
  },
  "nbformat": 4,
  "nbformat_minor": 0
}